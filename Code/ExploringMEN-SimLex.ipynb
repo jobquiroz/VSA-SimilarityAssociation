{
 "cells": [
  {
   "cell_type": "markdown",
   "metadata": {},
   "source": [
    "## Exploring datasets\n",
    "This program finds out how many common pairs from the MEN and SimLex-999 datasets also appear in the McRae dataset.\n",
    "\n",
    "\n",
    "### Getting list of McRae concepts"
   ]
  },
  {
   "cell_type": "code",
   "execution_count": 64,
   "metadata": {},
   "outputs": [],
   "source": [
    "import pandas as pd\n",
    "import os\n",
    "\n",
    "# Reading CONCS_Synset_brm file. The first column contains all the concepts\n",
    "df = pd.read_excel('../Data/CONCS_Synset_brm.xlsx')\n",
    "McRae = list(df['Concept'])\n",
    "#print(L)"
   ]
  },
  {
   "cell_type": "markdown",
   "metadata": {},
   "source": [
    "### Reading MEN dataset"
   ]
  },
  {
   "cell_type": "code",
   "execution_count": 59,
   "metadata": {},
   "outputs": [
    {
     "name": "stdout",
     "output_type": "stream",
     "text": [
      "96\n"
     ]
    }
   ],
   "source": [
    "MEN_path = \"../Data/MEN_dataset_natural_form_full\"\n",
    "MEN_file = open(MEN_path, \"r\")\n",
    "\n",
    "MEN = MEN_file.readlines()\n",
    "MEN = [str.split(x) for x in MEN]\n",
    "\n",
    "MENList = []\n",
    "for row in Ls:\n",
    "    if row[0] in McRae and row[1] in McRae:\n",
    "        MENList.append(pair)\n",
    "\n",
    "print(len(MENList))\n",
    "#print(MENList)"
   ]
  },
  {
   "cell_type": "markdown",
   "metadata": {},
   "source": [
    "### Reading SimLex-999 dataset"
   ]
  },
  {
   "cell_type": "code",
   "execution_count": 63,
   "metadata": {},
   "outputs": [
    {
     "name": "stdout",
     "output_type": "stream",
     "text": [
      "46\n",
      "[['dog', 'cat', '1.75'], ['bed', 'bedroom', '3.4'], ['sheep', 'lamb', '8.42'], ['boat', 'anchor', '2.25'], ['mouse', 'cat', '1.12'], ['ball', 'cannon', '2.58'], ['house', 'apartment', '5.8'], ['gun', 'cannon', '5.68'], ['ball', 'basket', '1.67'], ['door', 'cellar', '1.97'], ['chair', 'bench', '6.67'], ['sweater', 'jacket', '7.15'], ['rat', 'mouse', '7.78'], ['cat', 'lion', '6.75'], ['door', 'gate', '5.25'], ['house', 'key', '1.9'], ['sofa', 'chair', '6.67'], ['wall', 'brick', '4.68'], ['boat', 'car', '2.37'], ['plate', 'bowl', '5.23'], ['cow', 'goat', '2.93'], ['jar', 'bottle', '7.83'], ['guitar', 'drum', '3.78'], ['card', 'bridge', '1.97'], ['bread', 'cheese', '1.95'], ['house', 'carpet', '1.38'], ['chicken', 'rice', '1.43'], ['box', 'elevator', '1.32'], ['cat', 'rabbit', '2.37'], ['cottage', 'cabin', '7.72'], ['spoon', 'cup', '2.02'], ['house', 'barn', '4.33'], ['car', 'bridge', '0.95'], ['cabin', 'hut', '6.53'], ['car', 'elevator', '1.03'], ['bed', 'couch', '3.42'], ['car', 'hose', '0.87'], ['pipe', 'cigar', '6.03'], ['box', 'cigar', '1.25'], ['horse', 'ox', '3.02'], ['cup', 'jar', '5.13'], ['bed', 'chair', '3.5'], ['gun', 'knife', '3.65'], ['apple', 'lemon', '4.05'], ['calf', 'bull', '4.93'], ['dog', 'horse', '2.38']]\n"
     ]
    }
   ],
   "source": [
    "SimLex_path = \"../Data/SimLex-999.txt\"\n",
    "SimLex_file = open(SimLex_path, \"r\")\n",
    "\n",
    "SimLex = SimLex_file.readlines()\n",
    "SimLex = [str.split(x) for x in SimLex][1:] #Removed first line (column's names)\n",
    "\n",
    "#We are interested in the first to elements of each line (row)\n",
    "SimLexList = []\n",
    "for row in SimLex:\n",
    "    if row[0] in L and row[1] in L and row[2] == 'N':\n",
    "        SimLexList.append([row[0], row[1], row[3]])\n",
    "\n",
    "print(len(SimLexList))\n",
    "print(SimLexList)"
   ]
  }
 ],
 "metadata": {
  "kernelspec": {
   "display_name": "Python 3",
   "language": "python",
   "name": "python3"
  },
  "language_info": {
   "codemirror_mode": {
    "name": "ipython",
    "version": 3
   },
   "file_extension": ".py",
   "mimetype": "text/x-python",
   "name": "python",
   "nbconvert_exporter": "python",
   "pygments_lexer": "ipython3",
   "version": "3.6.3"
  }
 },
 "nbformat": 4,
 "nbformat_minor": 2
}
