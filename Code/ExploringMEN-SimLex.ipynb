{
 "cells": [
  {
   "cell_type": "markdown",
   "metadata": {},
   "source": [
    "## Exploring datasets\n",
    "This program finds out how many common pairs from the MEN and SimLex-999 datasets also appear in the McRae dataset.\n",
    "\n",
    "\n",
    "### Getting list of McRae concepts"
   ]
  },
  {
   "cell_type": "code",
   "execution_count": 13,
   "metadata": {},
   "outputs": [
    {
     "name": "stdout",
     "output_type": "stream",
     "text": [
      "['accordion', 'airplane', 'alligator', 'ambulance', 'anchor', 'ant', 'apartment', 'apple', 'apron', 'armour', 'ashtray', 'asparagus', 'avocado', 'axe', 'bag', 'bagpipe', 'ball', 'balloon', 'banana', 'banjo', 'banner', 'barn', 'barrel', 'basement', 'basket', 'bat_(animal)', 'bat_(baseball)', 'bathtub', 'baton', 'bayonet', 'bazooka', 'beans', 'bear', 'beaver', 'bed', 'bedroom', 'beehive', 'beetle', 'beets', 'belt', 'bench', 'bike', 'bin_(waste)', 'birch', 'biscuit', 'bison', 'blackbird', 'blender', 'blouse', 'blueberry', 'bluejay', 'board_(black)', 'board_(wood)', 'boat', 'bolts', 'bomb', 'book', 'bookcase', 'boots', 'bottle', 'bouquet', 'bow_(ribbon)', 'bow_(weapon)', 'bowl', 'box', 'bra', 'bracelet', 'bread', 'brick', 'bridge', 'broccoli', 'broom', 'brush', 'bucket', 'buckle', 'budgie', 'buffalo', 'buggy', 'building', 'bull', 'bullet', 'bungalow', 'bureau', 'bus', 'butterfly', 'buzzard', 'cabbage', 'cabin', 'cabinet', 'cage', 'cake', 'calf', 'camel', 'camisole', 'canary', 'candle', 'cannon', 'canoe', 'cantaloupe', 'cap_(bottle)', 'cap_(hat)', 'cape', 'car', 'card_(greeting)', 'caribou', 'carpet', 'carrot', 'cart', 'cat', 'catapult', 'caterpillar', 'catfish', 'cathedral', 'cauliflower', 'cedar', 'celery', 'cellar', 'cello', 'certificate', 'chain', 'chair', 'chandelier', 'chapel', 'cheese', 'cheetah', 'cherry', 'chickadee', 'chicken', 'chimp', 'chipmunk', 'chisel', 'church', 'cigar', 'cigarette', 'clam', 'clamp', 'clarinet', 'cloak', 'clock', 'closet', 'coat', 'cockroach', 'coconut', 'cod', 'coin', 'colander', 'comb', 'cork', 'corkscrew', 'corn', 'cottage', 'couch', 'cougar', 'cow', 'coyote', 'crab', 'cranberry', 'crane_(machine)', 'crayon', 'crocodile', 'crossbow', 'crow', 'crowbar', 'crown', 'cucumber', 'cup', 'cupboard', 'curtains', 'cushion', 'dagger', 'dandelion', 'deer', 'desk', 'dish', 'dishwasher', 'dog', 'doll', 'dolphin', 'donkey', 'door', 'doorknob', 'dove', 'drain', 'drapes', 'dress', 'dresser', 'drill', 'drum', 'duck', 'dunebuggy', 'eagle', 'earmuffs', 'eel', 'eggplant', 'elephant', 'elevator', 'elk', 'emerald', 'emu', 'envelope', 'escalator', 'falcon', 'fan_(appliance)', 'faucet', 'fawn', 'fence', 'finch', 'flamingo', 'flea', 'flute', 'football', 'fork', 'fox', 'freezer', 'fridge', 'frog', 'garage', 'garlic', 'gate', 'giraffe', 'gloves', 'goat', 'goldfish', 'goose', 'gopher', 'gorilla', 'gown', 'grape', 'grapefruit', 'grasshopper', 'grater', 'grenade', 'groundhog', 'guitar', 'gun', 'guppy', 'hammer', 'hamster', 'hare', 'harmonica', 'harp', 'harpoon', 'harpsichord', 'hatchet', 'hawk', 'helicopter', 'helmet', 'hoe', 'honeydew', 'hook', 'hornet', 'horse', 'hose', 'hose_(leggings)', 'house', 'housefly', 'hut', 'hyena', 'iguana', 'inn', 'jacket', 'jar', 'jeans', 'jeep', 'jet', 'kettle', 'key', 'keyboard_(musical)', 'kite', 'knife', 'ladle', 'lamb', 'lamp', 'lantern', 'lemon', 'leopard', 'leotards', 'lettuce', 'level', 'lime', 'limousine', 'lion', 'lobster', 'machete', 'mackerel', 'magazine', 'mandarin', 'marble', 'mat', 'medal', 'menu', 'microscope', 'microwave', 'mink', 'mink_(coat)', 'minnow', 'mirror', 'missile', 'mittens', 'mixer', 'mole_(animal)', 'moose', 'moth', 'motorcycle', 'mouse', 'mouse_(computer)', 'mug', 'mushroom', 'muzzle', 'napkin', 'necklace', 'nectarine', 'nightgown', 'nightingale', 'nylons', 'oak', 'octopus', 'olive', 'onions', 'orange', 'oriole', 'ostrich', 'otter', 'oven', 'owl', 'ox', 'paintbrush', 'pajamas', 'pan', 'panther', 'pants', 'parakeet', 'parka', 'parsley', 'partridge', 'peach', 'peacock', 'pear', 'pearl', 'peas', 'peg', 'pelican', 'pen', 'pencil', 'penguin', 'pepper', 'perch', 'pheasant', 'piano', 'pickle', 'pie', 'pier', 'pig', 'pigeon', 'pillow', 'pin', 'pine', 'pineapple', 'pipe_(plumbing)', 'pipe_(smoking)', 'pistol', 'plate', 'platypus', 'pliers', 'plug_(electric)', 'plum', 'pony', 'porcupine', 'pot', 'potato', 'projector', 'prune', 'pumpkin', 'pyramid', 'python', 'rabbit', 'raccoon', 'racquet', 'radio', 'radish', 'raft', 'raisin', 'rake', 'raspberry', 'rat', 'rattle', 'rattlesnake', 'raven', 'razor', 'revolver', 'rhubarb', 'rice', 'rifle', 'ring_(jewelry)', 'robe', 'robin', 'rock', 'rocker', 'rocket', 'rooster', 'rope', 'ruler', 'sack', 'saddle', 'sailboat', 'salamander', 'salmon', 'sandals', 'sandpaper', 'sardine', 'saucer', 'saxophone', 'scarf', 'scissors', 'scooter', 'screwdriver', 'screws', 'seagull', 'seal', 'seaweed', 'shack', 'shawl', 'shed', 'sheep', 'shell', 'shelves', 'shield', 'ship', 'shirt', 'shoes', 'shotgun', 'shovel', 'shrimp', 'sink', 'skateboard', 'skillet', 'skirt', 'skis', 'skunk', 'skyscraper', 'sled', 'sledgehammer', 'sleigh', 'slingshot', 'slippers', 'snail', 'socks', 'sofa', 'spade', 'sparrow', 'spatula', 'spear', 'spider', 'spinach', 'spoon', 'squid', 'squirrel', 'starling', 'stereo', 'stick', 'stone', 'stool_(furniture)', 'stork', 'stove', 'strainer', 'strawberry', 'submarine', 'subway', 'surfboard', 'swan', 'sweater', 'swimsuit', 'sword', 'table', 'tack', 'tangerine', 'tank_(army)', 'tank_(container)', 'tap', 'tape_(scotch)', 'taxi', 'telephone', 'tent', 'thermometer', 'thimble', 'tie', 'tiger', 'toad', 'toaster', 'toilet', 'tomahawk', 'tomato', 'tongs', 'tortoise', 'toy', 'tractor', 'trailer', 'train', 'tray', 'tricycle', 'tripod', 'trolley', 'trombone', 'trousers', 'trout', 'truck', 'trumpet', 'tuba', 'tuna', 'turkey', 'turnip', 'turtle', 'typewriter', 'umbrella', 'unicycle', 'urn', 'van', 'veil', 'vest', 'vine', 'violin', 'vulture', 'wagon', 'wall', 'walnut', 'walrus', 'wand', 'wasp', 'whale', 'wheel', 'wheelbarrow', 'whip', 'whistle', 'willow', 'woodpecker', 'worm', 'wrench', 'yacht', 'yam', 'zebra', 'zucchini']\n"
     ]
    }
   ],
   "source": [
    "import pandas as pd\n",
    "import os\n",
    "\n",
    "# Reading CONCS_Synset_brm file. The first column contains all the concepts\n",
    "df = pd.read_excel('../Data/CONCS_Synset_brm.xlsx') #_brm2 es el bueno... \n",
    "McRae = list(df['Concept'])\n",
    "McRae = [str(x) for x in McRae]\n",
    "#print(McRae)"
   ]
  },
  {
   "cell_type": "markdown",
   "metadata": {},
   "source": [
    "### Reading MEN dataset"
   ]
  },
  {
   "cell_type": "code",
   "execution_count": 23,
   "metadata": {},
   "outputs": [
    {
     "name": "stdout",
     "output_type": "stream",
     "text": [
      "3000\n",
      "94\n"
     ]
    }
   ],
   "source": [
    "MEN_path = \"../Data/MEN_dataset_natural_form_full\"\n",
    "MEN_file = open(MEN_path, \"r\")\n",
    "\n",
    "MEN = MEN_file.readlines()\n",
    "MEN = [str.split(x) for x in MEN]\n",
    "print(len(MEN))\n",
    "MENList = []\n",
    "for row in MEN:\n",
    "    if row[0] in McRae and row[1] in McRae:\n",
    "        MENList.append(row)\n",
    "\n",
    "print(len(MENList))\n",
    "#print(MENList)"
   ]
  },
  {
   "cell_type": "markdown",
   "metadata": {},
   "source": [
    "### Reading SimLex-999 dataset"
   ]
  },
  {
   "cell_type": "code",
   "execution_count": 21,
   "metadata": {},
   "outputs": [
    {
     "name": "stdout",
     "output_type": "stream",
     "text": [
      "44\n",
      "[['dog', 'cat', '1.75'], ['bed', 'bedroom', '3.4'], ['sheep', 'lamb', '8.42'], ['boat', 'anchor', '2.25'], ['mouse', 'cat', '1.12'], ['ball', 'cannon', '2.58'], ['house', 'apartment', '5.8'], ['gun', 'cannon', '5.68'], ['ball', 'basket', '1.67'], ['door', 'cellar', '1.97'], ['chair', 'bench', '6.67'], ['sweater', 'jacket', '7.15'], ['rat', 'mouse', '7.78'], ['cat', 'lion', '6.75'], ['door', 'gate', '5.25'], ['house', 'key', '1.9'], ['sofa', 'chair', '6.67'], ['wall', 'brick', '4.68'], ['boat', 'car', '2.37'], ['plate', 'bowl', '5.23'], ['cow', 'goat', '2.93'], ['jar', 'bottle', '7.83'], ['guitar', 'drum', '3.78'], ['bread', 'cheese', '1.95'], ['house', 'carpet', '1.38'], ['chicken', 'rice', '1.43'], ['box', 'elevator', '1.32'], ['cat', 'rabbit', '2.37'], ['cottage', 'cabin', '7.72'], ['spoon', 'cup', '2.02'], ['house', 'barn', '4.33'], ['car', 'bridge', '0.95'], ['cabin', 'hut', '6.53'], ['car', 'elevator', '1.03'], ['bed', 'couch', '3.42'], ['car', 'hose', '0.87'], ['box', 'cigar', '1.25'], ['horse', 'ox', '3.02'], ['cup', 'jar', '5.13'], ['bed', 'chair', '3.5'], ['gun', 'knife', '3.65'], ['apple', 'lemon', '4.05'], ['calf', 'bull', '4.93'], ['dog', 'horse', '2.38']]\n"
     ]
    }
   ],
   "source": [
    "SimLex_path = \"../Data/SimLex-999.txt\"\n",
    "SimLex_file = open(SimLex_path, \"r\")\n",
    "\n",
    "SimLex = SimLex_file.readlines()\n",
    "SimLex = [str.split(x) for x in SimLex][1:]   # Removed first line (column's names)\n",
    "\n",
    "#We are interested in the first to elements of each line (row)\n",
    "SimLexList = []\n",
    "for row in SimLex:\n",
    "    if row[0] in McRae and row[1] in McRae and row[2] == 'N':\n",
    "        SimLexList.append([row[0], row[1], row[3]])\n",
    "\n",
    "print(len(SimLexList))\n",
    "print(SimLexList)"
   ]
  },
  {
   "cell_type": "markdown",
   "metadata": {},
   "source": [
    "### Reading WordSim353 dataset"
   ]
  },
  {
   "cell_type": "code",
   "execution_count": 26,
   "metadata": {},
   "outputs": [
    {
     "name": "stdout",
     "output_type": "stream",
     "text": [
      "3\n",
      "[['tiger', 'tiger', '10.00'], ['train', 'car', '6.31'], ['cucumber', 'potato', '5.92']]\n"
     ]
    }
   ],
   "source": [
    "WS353_rel = \"../Data/wordsim353/wordsim_relatedness_goldstandard.txt\"\n",
    "WS353_sim = \"../Data/wordsim353/wordsim_similarity_goldstandard.txt\"\n",
    "\n",
    "WS_file = open(WS353_sim, \"r\") # or WS353_sim\n",
    "\n",
    "WS353 = WS_file.readlines()\n",
    "WS353 = [str.split(x) for x in WS353][1:]   # Removed first line (column's names)\n",
    "\n",
    "#We are interested in the first to elements of each line (row)\n",
    "WS353_List = []\n",
    "for row in WS353:\n",
    "    if row[0] in McRae and row[1] in McRae:\n",
    "        WS353_List.append(row)\n",
    "\n",
    "print(len(WS353_List))\n",
    "print(WS353_List)"
   ]
  },
  {
   "cell_type": "markdown",
   "metadata": {},
   "source": [
    "### My own list of concept pairs\n",
    "This pairs of concepts were used in the journal under revision"
   ]
  },
  {
   "cell_type": "code",
   "execution_count": 22,
   "metadata": {},
   "outputs": [
    {
     "name": "stdout",
     "output_type": "stream",
     "text": [
      "['chair', 'bench', 'N', '6.67', '4.58', '4.87', '3', '1.09', '1', '1.22']\n",
      "['sofa', 'chair', 'N', '6.67', '4.9', '4.58', '4', '0.77', '1', '1.56']\n",
      "['bed', 'chair', 'N', '3.5', '5', '4.58', '4', '0.13', '0', '1.26']\n"
     ]
    }
   ],
   "source": [
    "df = pd.read_excel('../Data/ExperimentalResults.xlsx')\n",
    "L1 = list(df['concept 1'])\n",
    "L2 = list(df['concept 2'])\n",
    "\n",
    "for row in SimLex:\n",
    "    for i in range(len(L1)):\n",
    "        if ( row[0] == L1[i] and row[1] == L2[i] ) or ( row[1] == L1[i] and row[0] == L2[i] ):\n",
    "            print(row)"
   ]
  }
 ],
 "metadata": {
  "kernelspec": {
   "display_name": "Python 2",
   "language": "python",
   "name": "python2"
  },
  "language_info": {
   "codemirror_mode": {
    "name": "ipython",
    "version": 2
   },
   "file_extension": ".py",
   "mimetype": "text/x-python",
   "name": "python",
   "nbconvert_exporter": "python",
   "pygments_lexer": "ipython2",
   "version": "2.7.14"
  }
 },
 "nbformat": 4,
 "nbformat_minor": 2
}
