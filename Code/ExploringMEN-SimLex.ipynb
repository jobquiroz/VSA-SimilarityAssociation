{
 "cells": [
  {
   "cell_type": "markdown",
   "metadata": {},
   "source": [
    "## Exploring datasets\n",
    "This program finds out how many common pairs from the MEN and SimLex-999 datasets also appear in the McRae dataset.\n",
    "\n",
    "\n",
    "### Getting list of McRae concepts"
   ]
  },
  {
   "cell_type": "code",
   "execution_count": 46,
   "metadata": {},
   "outputs": [],
   "source": [
    "import pandas as pd\n",
    "import os\n",
    "\n",
    "# Reading CONCS_Synset_brm file. The first column contains all the concepts\n",
    "df = pd.read_excel('../Data/CONCS_Synset_brm.xlsx')\n",
    "L = list(df['Concept'])\n",
    "#print(L)"
   ]
  },
  {
   "cell_type": "markdown",
   "metadata": {},
   "source": [
    "### Reading MEN dataset"
   ]
  },
  {
   "cell_type": "code",
   "execution_count": 47,
   "metadata": {},
   "outputs": [],
   "source": [
    "filename = \"../Data/MEN_dataset_natural_form_full\"\n",
    "file = open(filename, \"r\")\n",
    "\n",
    "Ls = file.readlines()\n",
    "Ls = [str.split(x) for x in Ls]\n",
    "#print(Ls)"
   ]
  },
  {
   "cell_type": "markdown",
   "metadata": {},
   "source": [
    "### Finding common concepts\n",
    "\n",
    "We are looking for all the pairs of concepts for which BOTH concepts appear in the McRae concept list"
   ]
  },
  {
   "cell_type": "code",
   "execution_count": 48,
   "metadata": {},
   "outputs": [
    {
     "name": "stdout",
     "output_type": "stream",
     "text": [
      "96\n"
     ]
    }
   ],
   "source": [
    "finalList = []\n",
    "for pair in Ls:\n",
    "    if pair[0] in L and pair[1] in L:\n",
    "        finalList.append(pair)\n",
    "\n",
    "print(len(finalList))\n",
    "#print(finalList)"
   ]
  },
  {
   "cell_type": "code",
   "execution_count": null,
   "metadata": {
    "collapsed": true
   },
   "outputs": [],
   "source": []
  }
 ],
 "metadata": {
  "kernelspec": {
   "display_name": "Python 3",
   "language": "python",
   "name": "python3"
  },
  "language_info": {
   "codemirror_mode": {
    "name": "ipython",
    "version": 3
   },
   "file_extension": ".py",
   "mimetype": "text/x-python",
   "name": "python",
   "nbconvert_exporter": "python",
   "pygments_lexer": "ipython3",
   "version": "3.6.3"
  }
 },
 "nbformat": 4,
 "nbformat_minor": 2
}
